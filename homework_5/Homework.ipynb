{
 "cells": [
  {
   "cell_type": "code",
   "execution_count": 2,
   "id": "d49d31d7-da91-4a29-b08e-9d22e1f09eff",
   "metadata": {},
   "outputs": [
    {
     "name": "stdout",
     "output_type": "stream",
     "text": [
      "/workspaces/machine-learning-zoomcamp-homework/homework_5\n"
     ]
    }
   ],
   "source": [
    "import os\n",
    "print(os.getcwd())"
   ]
  },
  {
   "cell_type": "code",
   "execution_count": 3,
   "id": "b6bf400d-147b-4e2a-830f-2bee99c056fc",
   "metadata": {},
   "outputs": [
    {
     "name": "stderr",
     "output_type": "stream",
     "text": [
      "/home/codespace/.local/lib/python3.12/site-packages/sklearn/base.py:440: InconsistentVersionWarning: Trying to unpickle estimator DictVectorizer from version 1.6.1 when using version 1.7.0. This might lead to breaking code or invalid results. Use at your own risk. For more info please refer to:\n",
      "https://scikit-learn.org/stable/model_persistence.html#security-maintainability-limitations\n",
      "  warnings.warn(\n"
     ]
    },
    {
     "name": "stdout",
     "output_type": "stream",
     "text": [
      "Model loaded successfully!\n"
     ]
    },
    {
     "name": "stderr",
     "output_type": "stream",
     "text": [
      "/home/codespace/.local/lib/python3.12/site-packages/sklearn/base.py:440: InconsistentVersionWarning: Trying to unpickle estimator LogisticRegression from version 1.6.1 when using version 1.7.0. This might lead to breaking code or invalid results. Use at your own risk. For more info please refer to:\n",
      "https://scikit-learn.org/stable/model_persistence.html#security-maintainability-limitations\n",
      "  warnings.warn(\n",
      "/home/codespace/.local/lib/python3.12/site-packages/sklearn/base.py:440: InconsistentVersionWarning: Trying to unpickle estimator Pipeline from version 1.6.1 when using version 1.7.0. This might lead to breaking code or invalid results. Use at your own risk. For more info please refer to:\n",
      "https://scikit-learn.org/stable/model_persistence.html#security-maintainability-limitations\n",
      "  warnings.warn(\n"
     ]
    }
   ],
   "source": [
    "import pickle\n",
    "\n",
    "with open('pipeline_v1.bin', 'rb') as f:\n",
    "    model = pickle.load(f)\n",
    "\n",
    "print(\"Model loaded successfully!\")\n"
   ]
  },
  {
   "cell_type": "code",
   "execution_count": 7,
   "id": "bcb2aeb6-b073-4d61-a769-68e047f1d768",
   "metadata": {},
   "outputs": [],
   "source": [
    "import pickle\n",
    "\n",
    "# Make sure pipeline_v1.bin is in the current folder!\n",
    "with open('pipeline_v1.bin', 'rb') as f:\n",
    "    pipeline = pickle.load(f)"
   ]
  },
  {
   "cell_type": "code",
   "execution_count": 8,
   "id": "cca5c3bc-f0c3-4f3e-bf4d-11e2001ad7e7",
   "metadata": {},
   "outputs": [],
   "source": [
    "record = {\n",
    "    \"lead_source\": \"paid_ads\",\n",
    "    \"number_of_courses_viewed\": 2,\n",
    "    \"annual_income\": 79276.0\n",
    "}"
   ]
  },
  {
   "cell_type": "code",
   "execution_count": 9,
   "id": "7ce8b6cb-780e-460a-8d57-e30a82d0e063",
   "metadata": {},
   "outputs": [],
   "source": [
    "records = [record]  # pipeline expects a list of dicts"
   ]
  },
  {
   "cell_type": "code",
   "execution_count": 10,
   "id": "1f393427-57a0-4098-be77-e8422d7c2439",
   "metadata": {},
   "outputs": [
    {
     "name": "stdout",
     "output_type": "stream",
     "text": [
      "Probability of conversion: 0.534\n"
     ]
    }
   ],
   "source": [
    "# Predict probabilities\n",
    "proba = pipeline.predict_proba(records)\n",
    "\n",
    "# Get the probability of the positive class (converted=1)\n",
    "converted_proba = proba[0][1]\n",
    "print(\"Probability of conversion:\", round(converted_proba, 3))"
   ]
  },
  {
   "cell_type": "code",
   "execution_count": 14,
   "id": "93e7f81a-ec5b-4d39-910a-acd548e3fd1a",
   "metadata": {},
   "outputs": [
    {
     "name": "stderr",
     "output_type": "stream",
     "text": [
      "/home/codespace/.local/lib/python3.12/site-packages/sklearn/base.py:440: InconsistentVersionWarning: Trying to unpickle estimator DictVectorizer from version 1.6.1 when using version 1.7.0. This might lead to breaking code or invalid results. Use at your own risk. For more info please refer to:\n",
      "https://scikit-learn.org/stable/model_persistence.html#security-maintainability-limitations\n",
      "  warnings.warn(\n",
      "/home/codespace/.local/lib/python3.12/site-packages/sklearn/base.py:440: InconsistentVersionWarning: Trying to unpickle estimator LogisticRegression from version 1.6.1 when using version 1.7.0. This might lead to breaking code or invalid results. Use at your own risk. For more info please refer to:\n",
      "https://scikit-learn.org/stable/model_persistence.html#security-maintainability-limitations\n",
      "  warnings.warn(\n",
      "/home/codespace/.local/lib/python3.12/site-packages/sklearn/base.py:440: InconsistentVersionWarning: Trying to unpickle estimator Pipeline from version 1.6.1 when using version 1.7.0. This might lead to breaking code or invalid results. Use at your own risk. For more info please refer to:\n",
      "https://scikit-learn.org/stable/model_persistence.html#security-maintainability-limitations\n",
      "  warnings.warn(\n"
     ]
    }
   ],
   "source": [
    "# app.py\n",
    "import pickle\n",
    "from fastapi import FastAPI\n",
    "from pydantic import BaseModel\n",
    "from typing import List\n",
    "\n",
    "# Load the pre-trained pipeline\n",
    "with open(\"pipeline_v1.bin\", \"rb\") as f:\n",
    "    pipeline = pickle.load(f)\n",
    "\n",
    "# Define request schema\n",
    "class Lead(BaseModel):\n",
    "    lead_source: str\n",
    "    number_of_courses_viewed: int\n",
    "    annual_income: float\n",
    "\n",
    "# Initialize FastAPI\n",
    "app = FastAPI(title=\"Lead Scoring API\")\n",
    "\n",
    "# Prediction endpoint\n",
    "@app.post(\"/predict\")\n",
    "def predict(lead: Lead):\n",
    "    # Convert input to a list of dicts for DictVectorizer\n",
    "    record = [lead.dict()]\n",
    "    proba = pipeline.predict_proba(record)[0][1]  # probability of conversion\n",
    "    return {\"converted_proba\": round(proba, 3)}\n",
    "\n",
    "# Optional: simple health check\n",
    "@app.get(\"/\")\n",
    "def root():\n",
    "    return {\"status\": \"API is running\"}\n"
   ]
  },
  {
   "cell_type": "code",
   "execution_count": 16,
   "id": "17a8d91f-f4b5-48f6-bb26-5d225f5d1ef6",
   "metadata": {},
   "outputs": [],
   "source": [
    "mv main.py app.py"
   ]
  },
  {
   "cell_type": "code",
   "execution_count": null,
   "id": "4acd4bde-30a6-4e87-a2e1-173e2fab1f65",
   "metadata": {},
   "outputs": [],
   "source": [
    "from fastapi import FastAPI\n",
    "import pickle\n",
    "from pydantic import BaseModel\n",
    "\n",
    "# Load your pipeline\n",
    "with open(\"pipeline_v1.bin\", \"rb\") as f:\n",
    "    pipeline = pickle.load(f)\n",
    "\n",
    "# Define request schema\n",
    "class Lead(BaseModel):\n",
    "    lead_source: str\n",
    "    number_of_courses_viewed: int\n",
    "    annual_income: float\n",
    "\n",
    "# THIS is the FastAPI app variable\n",
    "app = FastAPI(title=\"Lead Scoring API\")\n",
    "\n",
    "# Prediction endpoint\n",
    "@app.post(\"/predict\")\n",
    "def predict(lead: Lead):\n",
    "    record = [lead.dict()]\n",
    "    proba = pipeline.predict_proba(record)[0][1]\n",
    "    return {\"converted_proba\": round(proba, 3)}\n",
    "\n",
    "# Health check\n",
    "@app.get(\"/\")\n",
    "def root():\n",
    "    return {\"status\": \"API is running\"}"
   ]
  },
  {
   "cell_type": "code",
   "execution_count": 2,
   "id": "b10cf6e4-347c-422b-94a7-0ea54e8c22b7",
   "metadata": {},
   "outputs": [
    {
     "ename": "SyntaxError",
     "evalue": "invalid syntax (779969095.py, line 2)",
     "output_type": "error",
     "traceback": [
      "  \u001b[36mCell\u001b[39m\u001b[36m \u001b[39m\u001b[32mIn[2]\u001b[39m\u001b[32m, line 2\u001b[39m\n\u001b[31m    \u001b[39m\u001b[31mFROM agrigorev/zoomcamp-model:2025\u001b[39m\n         ^\n\u001b[31mSyntaxError\u001b[39m\u001b[31m:\u001b[39m invalid syntax\n"
     ]
    }
   ],
   "source": [
    "# Start from the base image\n",
    "FROM agrigorev/zoomcamp-model:2025\n",
    "\n",
    "# Set working directory\n",
    "WORKDIR /code\n",
    "\n",
    "# Copy pyproject.toml and install dependencies\n",
    "COPY pyproject.toml ./\n",
    "RUN pip install --no-cache-dir poetry && \\\n",
    "    poetry install --no-root\n",
    "\n",
    "# Copy your FastAPI app\n",
    "COPY app.py .\n",
    "\n",
    "# Expose port\n",
    "EXPOSE 8000\n",
    "\n",
    "# Run FastAPI with uvicorn\n",
    "CMD [\"uvicorn\", \"app:app\", \"--host\", \"0.0.0.0\", \"--port\", \"8000\"]\n"
   ]
  },
  {
   "cell_type": "code",
   "execution_count": null,
   "id": "b5ec2ab5-1964-43fd-8d6b-ecf23e7fda42",
   "metadata": {},
   "outputs": [],
   "source": []
  }
 ],
 "metadata": {
  "kernelspec": {
   "display_name": "Python 3 (ipykernel)",
   "language": "python",
   "name": "python3"
  },
  "language_info": {
   "codemirror_mode": {
    "name": "ipython",
    "version": 3
   },
   "file_extension": ".py",
   "mimetype": "text/x-python",
   "name": "python",
   "nbconvert_exporter": "python",
   "pygments_lexer": "ipython3",
   "version": "3.12.1"
  }
 },
 "nbformat": 4,
 "nbformat_minor": 5
}
