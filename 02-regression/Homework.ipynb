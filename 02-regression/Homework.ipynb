{
 "cells": [
  {
   "cell_type": "code",
   "execution_count": 1,
   "id": "6d2b7d97-fd7a-4c35-9143-f83344ecb3fb",
   "metadata": {},
   "outputs": [],
   "source": [
    "import pandas as pd\n",
    "import numpy as np"
   ]
  },
  {
   "cell_type": "code",
   "execution_count": 2,
   "id": "3849359e-fdfe-4d15-b62a-4a63a44a57a6",
   "metadata": {},
   "outputs": [
    {
     "name": "stdout",
     "output_type": "stream",
     "text": [
      "--2025-10-06 18:49:46--  https://raw.githubusercontent.com/alexeygrigorev/datasets/master/car_fuel_efficiency.csv\n",
      "Resolving raw.githubusercontent.com (raw.githubusercontent.com)... 185.199.111.133, 185.199.108.133, 185.199.110.133, ...\n",
      "Connecting to raw.githubusercontent.com (raw.githubusercontent.com)|185.199.111.133|:443... connected.\n",
      "HTTP request sent, awaiting response... 200 OK\n",
      "Length: 874188 (854K) [text/plain]\n",
      "Saving to: ‘car_fuel_efficiency.csv’\n",
      "\n",
      "car_fuel_efficiency 100%[===================>] 853.70K  3.46MB/s    in 0.2s    \n",
      "\n",
      "2025-10-06 18:49:46 (3.46 MB/s) - ‘car_fuel_efficiency.csv’ saved [874188/874188]\n",
      "\n"
     ]
    }
   ],
   "source": [
    "!wget https://raw.githubusercontent.com/alexeygrigorev/datasets/master/car_fuel_efficiency.csv"
   ]
  },
  {
   "cell_type": "code",
   "execution_count": 3,
   "id": "2535688a-21f4-4980-8d78-62ba7c217194",
   "metadata": {},
   "outputs": [
    {
     "data": {
      "text/html": [
       "<div>\n",
       "<style scoped>\n",
       "    .dataframe tbody tr th:only-of-type {\n",
       "        vertical-align: middle;\n",
       "    }\n",
       "\n",
       "    .dataframe tbody tr th {\n",
       "        vertical-align: top;\n",
       "    }\n",
       "\n",
       "    .dataframe thead th {\n",
       "        text-align: right;\n",
       "    }\n",
       "</style>\n",
       "<table border=\"1\" class=\"dataframe\">\n",
       "  <thead>\n",
       "    <tr style=\"text-align: right;\">\n",
       "      <th></th>\n",
       "      <th>engine_displacement</th>\n",
       "      <th>horsepower</th>\n",
       "      <th>vehicle_weight</th>\n",
       "      <th>model_year</th>\n",
       "      <th>fuel_efficiency_mpg</th>\n",
       "    </tr>\n",
       "  </thead>\n",
       "  <tbody>\n",
       "    <tr>\n",
       "      <th>0</th>\n",
       "      <td>170</td>\n",
       "      <td>159.0</td>\n",
       "      <td>3413.433759</td>\n",
       "      <td>2003</td>\n",
       "      <td>13.231729</td>\n",
       "    </tr>\n",
       "    <tr>\n",
       "      <th>1</th>\n",
       "      <td>130</td>\n",
       "      <td>97.0</td>\n",
       "      <td>3149.664934</td>\n",
       "      <td>2007</td>\n",
       "      <td>13.688217</td>\n",
       "    </tr>\n",
       "    <tr>\n",
       "      <th>2</th>\n",
       "      <td>170</td>\n",
       "      <td>78.0</td>\n",
       "      <td>3079.038997</td>\n",
       "      <td>2018</td>\n",
       "      <td>14.246341</td>\n",
       "    </tr>\n",
       "    <tr>\n",
       "      <th>3</th>\n",
       "      <td>220</td>\n",
       "      <td>NaN</td>\n",
       "      <td>2542.392402</td>\n",
       "      <td>2009</td>\n",
       "      <td>16.912736</td>\n",
       "    </tr>\n",
       "    <tr>\n",
       "      <th>4</th>\n",
       "      <td>210</td>\n",
       "      <td>140.0</td>\n",
       "      <td>3460.870990</td>\n",
       "      <td>2009</td>\n",
       "      <td>12.488369</td>\n",
       "    </tr>\n",
       "  </tbody>\n",
       "</table>\n",
       "</div>"
      ],
      "text/plain": [
       "   engine_displacement  horsepower  vehicle_weight  model_year  \\\n",
       "0                  170       159.0     3413.433759        2003   \n",
       "1                  130        97.0     3149.664934        2007   \n",
       "2                  170        78.0     3079.038997        2018   \n",
       "3                  220         NaN     2542.392402        2009   \n",
       "4                  210       140.0     3460.870990        2009   \n",
       "\n",
       "   fuel_efficiency_mpg  \n",
       "0            13.231729  \n",
       "1            13.688217  \n",
       "2            14.246341  \n",
       "3            16.912736  \n",
       "4            12.488369  "
      ]
     },
     "execution_count": 3,
     "metadata": {},
     "output_type": "execute_result"
    }
   ],
   "source": [
    "import pandas as pd\n",
    "\n",
    "# Read the dataset\n",
    "df = pd.read_csv(\"car_fuel_efficiency.csv\")\n",
    "\n",
    "# Keep only the specified columns\n",
    "columns_to_use = [\n",
    "    \"engine_displacement\",\n",
    "    \"horsepower\",\n",
    "    \"vehicle_weight\",\n",
    "    \"model_year\",\n",
    "    \"fuel_efficiency_mpg\"\n",
    "]\n",
    "\n",
    "df = df[columns_to_use]\n",
    "\n",
    "# Display the first few rows\n",
    "df.head()\n"
   ]
  },
  {
   "cell_type": "code",
   "execution_count": 4,
   "id": "c3750f99-b6cb-49ff-aee4-f262ab643819",
   "metadata": {},
   "outputs": [
    {
     "data": {
      "text/plain": [
       "engine_displacement      0\n",
       "horsepower             708\n",
       "vehicle_weight           0\n",
       "model_year               0\n",
       "fuel_efficiency_mpg      0\n",
       "dtype: int64"
      ]
     },
     "execution_count": 4,
     "metadata": {},
     "output_type": "execute_result"
    }
   ],
   "source": [
    "df.isnull().sum()"
   ]
  },
  {
   "cell_type": "code",
   "execution_count": 5,
   "id": "533e10a1-4cca-4e0f-9234-26ca0341da7d",
   "metadata": {},
   "outputs": [
    {
     "name": "stdout",
     "output_type": "stream",
     "text": [
      "149.0\n"
     ]
    }
   ],
   "source": [
    "median_hp = df[\"horsepower\"].median()\n",
    "print(median_hp)"
   ]
  },
  {
   "cell_type": "code",
   "execution_count": 6,
   "id": "99ff4235-bfa2-49af-bbf4-88d76e953664",
   "metadata": {},
   "outputs": [
    {
     "data": {
      "text/html": [
       "<div>\n",
       "<style scoped>\n",
       "    .dataframe tbody tr th:only-of-type {\n",
       "        vertical-align: middle;\n",
       "    }\n",
       "\n",
       "    .dataframe tbody tr th {\n",
       "        vertical-align: top;\n",
       "    }\n",
       "\n",
       "    .dataframe thead th {\n",
       "        text-align: right;\n",
       "    }\n",
       "</style>\n",
       "<table border=\"1\" class=\"dataframe\">\n",
       "  <thead>\n",
       "    <tr style=\"text-align: right;\">\n",
       "      <th></th>\n",
       "      <th>engine_displacement</th>\n",
       "      <th>horsepower</th>\n",
       "      <th>vehicle_weight</th>\n",
       "      <th>model_year</th>\n",
       "      <th>fuel_efficiency_mpg</th>\n",
       "    </tr>\n",
       "  </thead>\n",
       "  <tbody>\n",
       "    <tr>\n",
       "      <th>0</th>\n",
       "      <td>220</td>\n",
       "      <td>144.0</td>\n",
       "      <td>2535.887591</td>\n",
       "      <td>2009</td>\n",
       "      <td>16.642943</td>\n",
       "    </tr>\n",
       "    <tr>\n",
       "      <th>1</th>\n",
       "      <td>160</td>\n",
       "      <td>141.0</td>\n",
       "      <td>2741.170484</td>\n",
       "      <td>2019</td>\n",
       "      <td>16.298377</td>\n",
       "    </tr>\n",
       "    <tr>\n",
       "      <th>2</th>\n",
       "      <td>230</td>\n",
       "      <td>155.0</td>\n",
       "      <td>2471.880237</td>\n",
       "      <td>2017</td>\n",
       "      <td>18.591822</td>\n",
       "    </tr>\n",
       "    <tr>\n",
       "      <th>3</th>\n",
       "      <td>150</td>\n",
       "      <td>206.0</td>\n",
       "      <td>3748.164469</td>\n",
       "      <td>2015</td>\n",
       "      <td>11.818843</td>\n",
       "    </tr>\n",
       "    <tr>\n",
       "      <th>4</th>\n",
       "      <td>300</td>\n",
       "      <td>111.0</td>\n",
       "      <td>2135.716359</td>\n",
       "      <td>2006</td>\n",
       "      <td>19.402209</td>\n",
       "    </tr>\n",
       "  </tbody>\n",
       "</table>\n",
       "</div>"
      ],
      "text/plain": [
       "   engine_displacement  horsepower  vehicle_weight  model_year  \\\n",
       "0                  220       144.0     2535.887591        2009   \n",
       "1                  160       141.0     2741.170484        2019   \n",
       "2                  230       155.0     2471.880237        2017   \n",
       "3                  150       206.0     3748.164469        2015   \n",
       "4                  300       111.0     2135.716359        2006   \n",
       "\n",
       "   fuel_efficiency_mpg  \n",
       "0            16.642943  \n",
       "1            16.298377  \n",
       "2            18.591822  \n",
       "3            11.818843  \n",
       "4            19.402209  "
      ]
     },
     "execution_count": 6,
     "metadata": {},
     "output_type": "execute_result"
    }
   ],
   "source": [
    "# Shuffle the dataset with a fixed random seed\n",
    "df_shuffled = df.sample(frac=1, random_state=42).reset_index(drop=True)\n",
    "\n",
    "# Show the first few rows\n",
    "df_shuffled.head()"
   ]
  },
  {
   "cell_type": "code",
   "execution_count": 7,
   "id": "330dd0b0-6a0e-4368-84d2-e004d0ed66c7",
   "metadata": {},
   "outputs": [
    {
     "name": "stdout",
     "output_type": "stream",
     "text": [
      "Train: 5822\n",
      "Validation: 1941\n",
      "Test: 1941\n"
     ]
    }
   ],
   "source": [
    "from sklearn.model_selection import train_test_split\n",
    "\n",
    "# 60% train, 40% temp (val + test)\n",
    "train_df, temp_df = train_test_split(df_shuffled, test_size=0.4, random_state=42)\n",
    "\n",
    "# Split the remaining 40% equally into val and test (20% each overall)\n",
    "val_df, test_df = train_test_split(temp_df, test_size=0.5, random_state=42)\n",
    "\n",
    "# Check the resulting shapes\n",
    "print(\"Train:\", len(train_df))\n",
    "print(\"Validation:\", len(val_df))\n",
    "print(\"Test:\", len(test_df))"
   ]
  },
  {
   "cell_type": "code",
   "execution_count": 8,
   "id": "498163f1-fb9a-4ace-91ab-6629544f82b9",
   "metadata": {},
   "outputs": [
    {
     "name": "stdout",
     "output_type": "stream",
     "text": [
      "RMSE (fill with 0): 0.51\n",
      "RMSE (fill with mean): 0.46\n",
      "✅ Better RMSE with: mean\n"
     ]
    }
   ],
   "source": [
    "import pandas as pd\n",
    "import numpy as np\n",
    "from sklearn.linear_model import LinearRegression\n",
    "from sklearn.metrics import mean_squared_error\n",
    "from sklearn.model_selection import train_test_split\n",
    "\n",
    "# 1️⃣ Split (as before)\n",
    "train_df, temp_df = train_test_split(df_shuffled, test_size=0.4, random_state=42)\n",
    "val_df, test_df = train_test_split(temp_df, test_size=0.5, random_state=42)\n",
    "\n",
    "# 2️⃣ Separate target and features\n",
    "target = \"fuel_efficiency_mpg\"\n",
    "features = [\"engine_displacement\", \"horsepower\", \"vehicle_weight\", \"model_year\"]\n",
    "\n",
    "# Ensure numeric\n",
    "for col in features:\n",
    "    train_df[col] = pd.to_numeric(train_df[col], errors=\"coerce\")\n",
    "    val_df[col] = pd.to_numeric(val_df[col], errors=\"coerce\")\n",
    "\n",
    "# 3️⃣ Option 1 — Fill missing horsepower with 0\n",
    "train_zero = train_df.copy()\n",
    "val_zero = val_df.copy()\n",
    "\n",
    "train_zero[\"horsepower\"] = train_zero[\"horsepower\"].fillna(0)\n",
    "val_zero[\"horsepower\"] = val_zero[\"horsepower\"].fillna(0)\n",
    "\n",
    "model_zero = LinearRegression()\n",
    "model_zero.fit(train_zero[features], train_zero[target])\n",
    "\n",
    "pred_zero = model_zero.predict(val_zero[features])\n",
    "rmse_zero = np.sqrt(mean_squared_error(val_zero[target], pred_zero))\n",
    "\n",
    "# 4️⃣ Option 2 — Fill missing horsepower with mean (computed from TRAIN only)\n",
    "train_mean = train_df.copy()\n",
    "val_mean = val_df.copy()\n",
    "\n",
    "hp_mean = train_mean[\"horsepower\"].mean()\n",
    "train_mean[\"horsepower\"] = train_mean[\"horsepower\"].fillna(hp_mean)\n",
    "val_mean[\"horsepower\"] = val_mean[\"horsepower\"].fillna(hp_mean)\n",
    "\n",
    "model_mean = LinearRegression()\n",
    "model_mean.fit(train_mean[features], train_mean[target])\n",
    "\n",
    "pred_mean = model_mean.predict(val_mean[features])\n",
    "rmse_mean = np.sqrt(mean_squared_error(val_mean[target], pred_mean))\n",
    "\n",
    "# 5️⃣ Print results\n",
    "print(\"RMSE (fill with 0):\", round(rmse_zero, 2))\n",
    "print(\"RMSE (fill with mean):\", round(rmse_mean, 2))\n",
    "\n",
    "# Compare\n",
    "better = \"mean\" if rmse_mean < rmse_zero else \"zero\"\n",
    "print(f\"✅ Better RMSE with: {better}\")\n"
   ]
  },
  {
   "cell_type": "code",
   "execution_count": 9,
   "id": "6d2a2179-be66-4567-8b7b-03cd887f2596",
   "metadata": {},
   "outputs": [
    {
     "name": "stdout",
     "output_type": "stream",
     "text": [
      "r=0: RMSE=0.51\n",
      "r=0.01: RMSE=0.51\n",
      "r=0.1: RMSE=0.51\n",
      "r=1: RMSE=0.51\n",
      "r=5: RMSE=0.51\n",
      "r=10: RMSE=0.51\n",
      "r=100: RMSE=0.51\n",
      "✅ Best r: 0 with RMSE=0.51\n"
     ]
    }
   ],
   "source": [
    "import pandas as pd\n",
    "import numpy as np\n",
    "from sklearn.linear_model import Ridge\n",
    "from sklearn.metrics import mean_squared_error\n",
    "from sklearn.model_selection import train_test_split\n",
    "\n",
    "# 1️⃣ Prepare train/validation split (shuffled df already available)\n",
    "train_df, temp_df = train_test_split(df_shuffled, test_size=0.4, random_state=42)\n",
    "val_df, test_df = train_test_split(temp_df, test_size=0.5, random_state=42)\n",
    "\n",
    "features = [\"engine_displacement\", \"horsepower\", \"vehicle_weight\", \"model_year\"]\n",
    "target = \"fuel_efficiency_mpg\"\n",
    "\n",
    "# Ensure numeric\n",
    "for col in features:\n",
    "    train_df[col] = pd.to_numeric(train_df[col], errors=\"coerce\")\n",
    "    val_df[col] = pd.to_numeric(val_df[col], errors=\"coerce\")\n",
    "\n",
    "# 2️⃣ Fill missing horsepower with 0\n",
    "train_df_filled = train_df.fillna(0)\n",
    "val_df_filled = val_df.fillna(0)\n",
    "\n",
    "# 3️⃣ List of regularization strengths\n",
    "r_values = [0, 0.01, 0.1, 1, 5, 10, 100]\n",
    "rmse_scores = {}\n",
    "\n",
    "# 4️⃣ Train Ridge regression for each r and compute RMSE on validation set\n",
    "for r in r_values:\n",
    "    model = Ridge(alpha=r)  # alpha = regularization strength\n",
    "    model.fit(train_df_filled[features], train_df_filled[target])\n",
    "    \n",
    "    pred = model.predict(val_df_filled[features])\n",
    "    rmse = np.sqrt(mean_squared_error(val_df_filled[target], pred))\n",
    "    \n",
    "    rmse_scores[r] = round(rmse, 2)\n",
    "\n",
    "# 5️⃣ Show results\n",
    "for r, score in rmse_scores.items():\n",
    "    print(f\"r={r}: RMSE={score}\")\n",
    "\n",
    "# 6️⃣ Find best r\n",
    "best_r = min(rmse_scores, key=rmse_scores.get)\n",
    "print(f\"✅ Best r: {best_r} with RMSE={rmse_scores[best_r]}\")\n"
   ]
  },
  {
   "cell_type": "code",
   "execution_count": 10,
   "id": "f89f71e8-b048-4d04-a0c1-9f8506c82101",
   "metadata": {},
   "outputs": [
    {
     "name": "stdout",
     "output_type": "stream",
     "text": [
      "Standard deviation of RMSE: 0.01\n"
     ]
    }
   ],
   "source": [
    "import pandas as pd\n",
    "import numpy as np\n",
    "from sklearn.linear_model import LinearRegression\n",
    "from sklearn.metrics import mean_squared_error\n",
    "from sklearn.model_selection import train_test_split\n",
    "\n",
    "features = [\"engine_displacement\", \"horsepower\", \"vehicle_weight\", \"model_year\"]\n",
    "target = \"fuel_efficiency_mpg\"\n",
    "\n",
    "# Ensure numeric\n",
    "for col in features:\n",
    "    df_shuffled[col] = pd.to_numeric(df_shuffled[col], errors=\"coerce\")\n",
    "\n",
    "seeds = list(range(10))\n",
    "rmse_scores = []\n",
    "\n",
    "for seed in seeds:\n",
    "    # 1️⃣ Split data\n",
    "    train_df, temp_df = train_test_split(df_shuffled, test_size=0.4, random_state=seed)\n",
    "    val_df, test_df = train_test_split(temp_df, test_size=0.5, random_state=seed)\n",
    "    \n",
    "    # 2️⃣ Fill missing values with 0\n",
    "    train_filled = train_df.fillna(0)\n",
    "    val_filled = val_df.fillna(0)\n",
    "    \n",
    "    # 3️⃣ Train linear regression\n",
    "    model = LinearRegression()\n",
    "    model.fit(train_filled[features], train_filled[target])\n",
    "    \n",
    "    # 4️⃣ Predict & compute RMSE\n",
    "    pred = model.predict(val_filled[features])\n",
    "    rmse = np.sqrt(mean_squared_error(val_filled[target], pred))\n",
    "    rmse_scores.append(rmse)\n",
    "\n",
    "# 5️⃣ Compute standard deviation of RMSE scores\n",
    "std_rmse = round(np.std(rmse_scores), 3)\n",
    "print(\"Standard deviation of RMSE:\", std_rmse)\n"
   ]
  },
  {
   "cell_type": "code",
   "execution_count": 11,
   "id": "3f63f3cc-db39-41a3-a1ed-00d956225479",
   "metadata": {},
   "outputs": [
    {
     "name": "stdout",
     "output_type": "stream",
     "text": [
      "RMSE on test dataset: 0.531\n"
     ]
    }
   ],
   "source": [
    "import pandas as pd\n",
    "import numpy as np\n",
    "from sklearn.linear_model import Ridge\n",
    "from sklearn.metrics import mean_squared_error\n",
    "from sklearn.model_selection import train_test_split\n",
    "\n",
    "features = [\"engine_displacement\", \"horsepower\", \"vehicle_weight\", \"model_year\"]\n",
    "target = \"fuel_efficiency_mpg\"\n",
    "\n",
    "# Ensure numeric\n",
    "for col in features:\n",
    "    df_shuffled[col] = pd.to_numeric(df_shuffled[col], errors=\"coerce\")\n",
    "\n",
    "# 1️⃣ Split with seed 9\n",
    "train_df, temp_df = train_test_split(df_shuffled, test_size=0.4, random_state=9)\n",
    "val_df, test_df = train_test_split(temp_df, test_size=0.5, random_state=9)\n",
    "\n",
    "# 2️⃣ Combine train + validation\n",
    "train_val_df = pd.concat([train_df, val_df], ignore_index=True)\n",
    "\n",
    "# 3️⃣ Fill missing values with 0\n",
    "train_val_filled = train_val_df.fillna(0)\n",
    "test_filled = test_df.fillna(0)\n",
    "\n",
    "# 4️⃣ Train Ridge regression with r=0.001\n",
    "model = Ridge(alpha=0.001)\n",
    "model.fit(train_val_filled[features], train_val_filled[target])\n",
    "\n",
    "# 5️⃣ Predict on test set\n",
    "pred_test = model.predict(test_filled[features])\n",
    "\n",
    "# 6️⃣ Compute RMSE\n",
    "rmse_test = np.sqrt(mean_squared_error(test_filled[target], pred_test))\n",
    "print(\"RMSE on test dataset:\", round(rmse_test, 3))\n",
    "\n"
   ]
  }
 ],
 "metadata": {
  "kernelspec": {
   "display_name": "Python 3 (ipykernel)",
   "language": "python",
   "name": "python3"
  },
  "language_info": {
   "codemirror_mode": {
    "name": "ipython",
    "version": 3
   },
   "file_extension": ".py",
   "mimetype": "text/x-python",
   "name": "python",
   "nbconvert_exporter": "python",
   "pygments_lexer": "ipython3",
   "version": "3.12.1"
  }
 },
 "nbformat": 4,
 "nbformat_minor": 5
}
