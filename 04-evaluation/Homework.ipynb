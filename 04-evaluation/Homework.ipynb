{
 "cells": [
  {
   "cell_type": "code",
   "execution_count": 41,
   "id": "dc9493de-5cb1-4f6e-8e7a-da0a44740085",
   "metadata": {},
   "outputs": [],
   "source": [
    "import pandas as pd\n",
    "import numpy as np"
   ]
  },
  {
   "cell_type": "code",
   "execution_count": 42,
   "id": "2cf9ad3e-a447-4473-bf5d-d596d3c016d0",
   "metadata": {},
   "outputs": [
    {
     "name": "stdout",
     "output_type": "stream",
     "text": [
      "--2025-10-20 20:35:19--  https://raw.githubusercontent.com/alexeygrigorev/datasets/master/course_lead_scoring.csv\n",
      "Resolving raw.githubusercontent.com (raw.githubusercontent.com)... 185.199.110.133, 185.199.108.133, 185.199.111.133, ...\n",
      "Connecting to raw.githubusercontent.com (raw.githubusercontent.com)|185.199.110.133|:443... connected.\n",
      "HTTP request sent, awaiting response... 200 OK\n",
      "Length: 80876 (79K) [text/plain]\n",
      "Saving to: ‘course_lead_scoring.csv.2’\n",
      "\n",
      "course_lead_scoring 100%[===================>]  78.98K  --.-KB/s    in 0.07s   \n",
      "\n",
      "2025-10-20 20:35:20 (1.06 MB/s) - ‘course_lead_scoring.csv.2’ saved [80876/80876]\n",
      "\n"
     ]
    }
   ],
   "source": [
    "!wget https://raw.githubusercontent.com/alexeygrigorev/datasets/master/course_lead_scoring.csv"
   ]
  },
  {
   "cell_type": "code",
   "execution_count": 43,
   "id": "2858d158-40e9-4cdd-96e0-15f148de80e1",
   "metadata": {},
   "outputs": [],
   "source": [
    "df = pd.read_csv(\"course_lead_scoring.csv\")"
   ]
  },
  {
   "cell_type": "code",
   "execution_count": 44,
   "id": "5cabe26b-7c6c-4f07-bfcf-71477e34823f",
   "metadata": {},
   "outputs": [
    {
     "data": {
      "text/plain": [
       "lead_source                 128\n",
       "industry                    134\n",
       "number_of_courses_viewed      0\n",
       "annual_income               181\n",
       "employment_status           100\n",
       "location                     63\n",
       "interaction_count             0\n",
       "lead_score                    0\n",
       "converted                     0\n",
       "dtype: int64"
      ]
     },
     "execution_count": 44,
     "metadata": {},
     "output_type": "execute_result"
    }
   ],
   "source": [
    "df.isnull().sum()"
   ]
  },
  {
   "cell_type": "code",
   "execution_count": 45,
   "id": "967d80b3-4261-427c-9a7c-ebae7070fd68",
   "metadata": {},
   "outputs": [],
   "source": [
    "categorical_cols = df.select_dtypes(include=['object']).columns\n",
    "numerical_cols = df.select_dtypes(include=['number']).columns"
   ]
  },
  {
   "cell_type": "code",
   "execution_count": 46,
   "id": "b322e413-d274-429f-8181-bc18d25d218d",
   "metadata": {},
   "outputs": [],
   "source": [
    "df[categorical_cols] = df[categorical_cols].fillna('NA')\n",
    "df[numerical_cols] = df[numerical_cols].fillna(0.0)"
   ]
  },
  {
   "cell_type": "code",
   "execution_count": 47,
   "id": "fbd63556-57e4-46d6-80ae-4474b7802d2e",
   "metadata": {},
   "outputs": [
    {
     "data": {
      "text/html": [
       "<div>\n",
       "<style scoped>\n",
       "    .dataframe tbody tr th:only-of-type {\n",
       "        vertical-align: middle;\n",
       "    }\n",
       "\n",
       "    .dataframe tbody tr th {\n",
       "        vertical-align: top;\n",
       "    }\n",
       "\n",
       "    .dataframe thead th {\n",
       "        text-align: right;\n",
       "    }\n",
       "</style>\n",
       "<table border=\"1\" class=\"dataframe\">\n",
       "  <thead>\n",
       "    <tr style=\"text-align: right;\">\n",
       "      <th></th>\n",
       "      <th>lead_source</th>\n",
       "      <th>industry</th>\n",
       "      <th>number_of_courses_viewed</th>\n",
       "      <th>annual_income</th>\n",
       "      <th>employment_status</th>\n",
       "      <th>location</th>\n",
       "      <th>interaction_count</th>\n",
       "      <th>lead_score</th>\n",
       "      <th>converted</th>\n",
       "    </tr>\n",
       "  </thead>\n",
       "  <tbody>\n",
       "    <tr>\n",
       "      <th>0</th>\n",
       "      <td>paid_ads</td>\n",
       "      <td>NA</td>\n",
       "      <td>1</td>\n",
       "      <td>79450.0</td>\n",
       "      <td>unemployed</td>\n",
       "      <td>south_america</td>\n",
       "      <td>4</td>\n",
       "      <td>0.94</td>\n",
       "      <td>1</td>\n",
       "    </tr>\n",
       "    <tr>\n",
       "      <th>1</th>\n",
       "      <td>social_media</td>\n",
       "      <td>retail</td>\n",
       "      <td>1</td>\n",
       "      <td>46992.0</td>\n",
       "      <td>employed</td>\n",
       "      <td>south_america</td>\n",
       "      <td>1</td>\n",
       "      <td>0.80</td>\n",
       "      <td>0</td>\n",
       "    </tr>\n",
       "    <tr>\n",
       "      <th>2</th>\n",
       "      <td>events</td>\n",
       "      <td>healthcare</td>\n",
       "      <td>5</td>\n",
       "      <td>78796.0</td>\n",
       "      <td>unemployed</td>\n",
       "      <td>australia</td>\n",
       "      <td>3</td>\n",
       "      <td>0.69</td>\n",
       "      <td>1</td>\n",
       "    </tr>\n",
       "    <tr>\n",
       "      <th>3</th>\n",
       "      <td>paid_ads</td>\n",
       "      <td>retail</td>\n",
       "      <td>2</td>\n",
       "      <td>83843.0</td>\n",
       "      <td>NA</td>\n",
       "      <td>australia</td>\n",
       "      <td>1</td>\n",
       "      <td>0.87</td>\n",
       "      <td>0</td>\n",
       "    </tr>\n",
       "    <tr>\n",
       "      <th>4</th>\n",
       "      <td>referral</td>\n",
       "      <td>education</td>\n",
       "      <td>3</td>\n",
       "      <td>85012.0</td>\n",
       "      <td>self_employed</td>\n",
       "      <td>europe</td>\n",
       "      <td>3</td>\n",
       "      <td>0.62</td>\n",
       "      <td>1</td>\n",
       "    </tr>\n",
       "  </tbody>\n",
       "</table>\n",
       "</div>"
      ],
      "text/plain": [
       "    lead_source    industry  number_of_courses_viewed  annual_income  \\\n",
       "0      paid_ads          NA                         1        79450.0   \n",
       "1  social_media      retail                         1        46992.0   \n",
       "2        events  healthcare                         5        78796.0   \n",
       "3      paid_ads      retail                         2        83843.0   \n",
       "4      referral   education                         3        85012.0   \n",
       "\n",
       "  employment_status       location  interaction_count  lead_score  converted  \n",
       "0        unemployed  south_america                  4        0.94          1  \n",
       "1          employed  south_america                  1        0.80          0  \n",
       "2        unemployed      australia                  3        0.69          1  \n",
       "3                NA      australia                  1        0.87          0  \n",
       "4     self_employed         europe                  3        0.62          1  "
      ]
     },
     "execution_count": 47,
     "metadata": {},
     "output_type": "execute_result"
    }
   ],
   "source": [
    "df.head()"
   ]
  },
  {
   "cell_type": "code",
   "execution_count": 48,
   "id": "1b5fc524-dc08-46b7-9a4b-f5243413c0fa",
   "metadata": {},
   "outputs": [],
   "source": [
    "from sklearn.model_selection import train_test_split"
   ]
  },
  {
   "cell_type": "code",
   "execution_count": 49,
   "id": "72a15ddd-4147-4ed9-9c2d-5cd618e996ec",
   "metadata": {},
   "outputs": [],
   "source": [
    "train_df, temp_df = train_test_split(df, test_size=0.4, random_state=1)\n",
    "val_df, test_df = train_test_split(temp_df, test_size=0.5, random_state=1)\n",
    "\n",
    "X_train = train_df.drop(columns=['converted'])\n",
    "X_val = val_df.drop(columns=['converted'])\n",
    "X_test = test_df.drop(columns=['converted'])"
   ]
  },
  {
   "cell_type": "code",
   "execution_count": 50,
   "id": "599859d7-13cb-47ec-b1a3-9de8d41d9d4f",
   "metadata": {},
   "outputs": [
    {
     "name": "stdout",
     "output_type": "stream",
     "text": [
      "Train: (877, 8), Validation: (292, 8), Test: (293, 8)\n"
     ]
    }
   ],
   "source": [
    "print(f\"Train: {X_train.shape}, Validation: {X_val.shape}, Test: {X_test.shape}\")"
   ]
  },
  {
   "cell_type": "code",
   "execution_count": 51,
   "id": "e361ef7b-5a59-4eb3-9370-bc8e933a7af0",
   "metadata": {},
   "outputs": [
    {
     "name": "stdout",
     "output_type": "stream",
     "text": [
      "lead_score: 0.611\n",
      "number_of_courses_viewed: 0.765\n",
      "interaction_count: 0.727\n",
      "annual_income: 0.545\n",
      "\n",
      "The numerical variable with the highest AUC is: number_of_courses_viewed\n"
     ]
    }
   ],
   "source": [
    "from sklearn.metrics import roc_auc_score\n",
    "\n",
    "# Define the target variable for the training set\n",
    "y_train = train_df['converted']\n",
    "\n",
    "# Select the four numerical variables specified in the question\n",
    "num_features = ['lead_score', 'number_of_courses_viewed', 'interaction_count', 'annual_income']\n",
    "\n",
    "# Compute ROC AUC for each numerical variable\n",
    "auc_scores = {}\n",
    "\n",
    "for col in num_features:\n",
    "    auc = roc_auc_score(y_train, train_df[col])\n",
    "    \n",
    "    # If AUC < 0.5, invert the variable\n",
    "    if auc < 0.5:\n",
    "        auc = roc_auc_score(y_train, -train_df[col])\n",
    "    \n",
    "    auc_scores[col] = auc\n",
    "\n",
    "# Display AUC values for each feature\n",
    "for feature, auc in auc_scores.items():\n",
    "    print(f\"{feature}: {auc:.3f}\")\n",
    "\n",
    "# Identify the variable with the highest AUC\n",
    "best_feature = max(auc_scores, key=auc_scores.get)\n",
    "print(f\"\\nThe numerical variable with the highest AUC is: {best_feature}\")\n"
   ]
  },
  {
   "cell_type": "code",
   "execution_count": 52,
   "id": "5b397424-9f04-4abc-acf8-6c827a757bdd",
   "metadata": {},
   "outputs": [
    {
     "name": "stdout",
     "output_type": "stream",
     "text": [
      "Validation AUC: 0.794\n"
     ]
    }
   ],
   "source": [
    "from sklearn.feature_extraction import DictVectorizer\n",
    "from sklearn.linear_model import LogisticRegression\n",
    "from sklearn.metrics import roc_auc_score\n",
    "\n",
    "# Define the target and features\n",
    "y_train = train_df['converted']\n",
    "y_val = val_df['converted']\n",
    "\n",
    "X_train = train_df.drop(columns=['converted'])\n",
    "X_val = val_df.drop(columns=['converted'])\n",
    "\n",
    "# Convert dataframes to dictionaries for DictVectorizer\n",
    "train_dicts = X_train.to_dict(orient='records')\n",
    "val_dicts = X_val.to_dict(orient='records')\n",
    "\n",
    "# Initialize DictVectorizer for one-hot encoding\n",
    "dv = DictVectorizer(sparse=False)\n",
    "X_train_encoded = dv.fit_transform(train_dicts)\n",
    "X_val_encoded = dv.transform(val_dicts)\n",
    "\n",
    "# Train the logistic regression model\n",
    "model = LogisticRegression(solver='liblinear', C=1.0, max_iter=1000)\n",
    "model.fit(X_train_encoded, y_train)\n",
    "\n",
    "# Predict probabilities on the validation set\n",
    "y_val_pred = model.predict_proba(X_val_encoded)[:, 1]\n",
    "\n",
    "# Compute ROC AUC\n",
    "auc = roc_auc_score(y_val, y_val_pred)\n",
    "print(f\"Validation AUC: {auc:.3f}\")"
   ]
  },
  {
   "cell_type": "code",
   "execution_count": 53,
   "id": "4a05a495-1870-4994-abfa-1c2d91c1bab9",
   "metadata": {},
   "outputs": [
    {
     "name": "stderr",
     "output_type": "stream",
     "text": [
      "/home/codespace/.local/lib/python3.12/site-packages/sklearn/metrics/_classification.py:1706: UndefinedMetricWarning: Precision is ill-defined and being set to 0.0 due to no predicted samples. Use `zero_division` parameter to control this behavior.\n",
      "  _warn_prf(average, modifier, f\"{metric.capitalize()} is\", result.shape[0])\n",
      "/home/codespace/.local/lib/python3.12/site-packages/sklearn/metrics/_classification.py:1706: UndefinedMetricWarning: Precision is ill-defined and being set to 0.0 due to no predicted samples. Use `zero_division` parameter to control this behavior.\n",
      "  _warn_prf(average, modifier, f\"{metric.capitalize()} is\", result.shape[0])\n"
     ]
    },
    {
     "data": {
      "image/png": "[encoded data removed]",
      "text/plain": [
       "<Figure size 800x500 with 1 Axes>"
      ]
     },
     "metadata": {},
     "output_type": "display_data"
    },
    {
     "name": "stdout",
     "output_type": "stream",
     "text": [
      "Threshold where precision and recall intersect: 0.590\n"
     ]
    }
   ],
   "source": [
    "import numpy as np\n",
    "import matplotlib.pyplot as plt\n",
    "from sklearn.metrics import precision_score, recall_score\n",
    "\n",
    "# y_val: true labels\n",
    "# y_val_pred: predicted probabilities from your model\n",
    "\n",
    "thresholds = np.arange(0.0, 1.01, 0.01)\n",
    "precisions = []\n",
    "recalls = []\n",
    "\n",
    "for t in thresholds:\n",
    "    preds = (y_val_pred >= t).astype(int)\n",
    "    precisions.append(precision_score(y_val, preds))\n",
    "    recalls.append(recall_score(y_val, preds))\n",
    "\n",
    "# Convert to numpy arrays for easier computation\n",
    "precisions = np.array(precisions)\n",
    "recalls = np.array(recalls)\n",
    "\n",
    "# Plot precision and recall\n",
    "plt.figure(figsize=(8,5))\n",
    "plt.plot(thresholds, precisions, label='Precision')\n",
    "plt.plot(thresholds, recalls, label='Recall')\n",
    "plt.xlabel('Threshold')\n",
    "plt.ylabel('Score')\n",
    "plt.title('Precision and Recall vs Threshold')\n",
    "plt.legend()\n",
    "plt.grid(True)\n",
    "plt.show()\n",
    "\n",
    "# Find threshold where precision and recall curves intersect\n",
    "# (closest point where absolute difference is minimum)\n",
    "idx = np.argmin(np.abs(precisions - recalls))\n",
    "threshold_intersect = thresholds[idx]\n",
    "print(f\"Threshold where precision and recall intersect: {threshold_intersect:.3f}\")\n"
   ]
  },
  {
   "cell_type": "code",
   "execution_count": 54,
   "id": "11935385-0f5c-41a2-85d4-99c134be42c4",
   "metadata": {},
   "outputs": [
    {
     "name": "stdout",
     "output_type": "stream",
     "text": [
      "Threshold where F1 is maximal: 0.470\n"
     ]
    },
    {
     "name": "stderr",
     "output_type": "stream",
     "text": [
      "/home/codespace/.local/lib/python3.12/site-packages/sklearn/metrics/_classification.py:1706: UndefinedMetricWarning: Precision is ill-defined and being set to 0.0 due to no predicted samples. Use `zero_division` parameter to control this behavior.\n",
      "  _warn_prf(average, modifier, f\"{metric.capitalize()} is\", result.shape[0])\n",
      "/home/codespace/.local/lib/python3.12/site-packages/sklearn/metrics/_classification.py:1706: UndefinedMetricWarning: Precision is ill-defined and being set to 0.0 due to no predicted samples. Use `zero_division` parameter to control this behavior.\n",
      "  _warn_prf(average, modifier, f\"{metric.capitalize()} is\", result.shape[0])\n"
     ]
    },
    {
     "data": {
      "image/png": "[encoded data removed]",
      "text/plain": [
       "<Figure size 800x500 with 1 Axes>"
      ]
     },
     "metadata": {},
     "output_type": "display_data"
    }
   ],
   "source": [
    "import numpy as np\n",
    "import matplotlib.pyplot as plt\n",
    "from sklearn.metrics import precision_score, recall_score\n",
    "\n",
    "# Thresholds from 0.0 to 1.0\n",
    "thresholds = np.arange(0.0, 1.01, 0.01)\n",
    "f1_scores = []\n",
    "\n",
    "# Compute F1 score for each threshold\n",
    "for t in thresholds:\n",
    "    y_pred_thresh = (y_val_pred >= t).astype(int)\n",
    "    P = precision_score(y_val, y_pred_thresh)\n",
    "    R = recall_score(y_val, y_pred_thresh)\n",
    "    F1 = 2 * P * R / (P + R) if (P + R) > 0 else 0  # avoid division by zero\n",
    "    f1_scores.append(F1)\n",
    "\n",
    "f1_scores = np.array(f1_scores)\n",
    "\n",
    "# Find threshold where F1 is maximal\n",
    "idx_max = np.argmax(f1_scores)\n",
    "threshold_max_f1 = thresholds[idx_max]\n",
    "print(f\"Threshold where F1 is maximal: {threshold_max_f1:.3f}\")\n",
    "\n",
    "# Optional: plot F1 score vs threshold\n",
    "plt.figure(figsize=(8,5))\n",
    "plt.plot(thresholds, f1_scores, label='F1 score')\n",
    "plt.xlabel('Threshold')\n",
    "plt.ylabel('F1 score')\n",
    "plt.title('F1 Score vs Threshold')\n",
    "plt.grid(True)\n",
    "plt.legend()\n",
    "plt.show()\n"
   ]
  },
  {
   "cell_type": "code",
   "execution_count": 55,
   "id": "72d1fa5d-481d-4f73-b767-9d25bd4b6be3",
   "metadata": {},
   "outputs": [
    {
     "name": "stdout",
     "output_type": "stream",
     "text": [
      "AUC scores for each fold: [0.817, 0.779, 0.831, 0.868, 0.809]\n",
      "Standard deviation of AUC across folds: 0.029\n"
     ]
    }
   ],
   "source": [
    "import numpy as np\n",
    "from sklearn.model_selection import KFold\n",
    "from sklearn.feature_extraction import DictVectorizer\n",
    "from sklearn.linear_model import LogisticRegression\n",
    "from sklearn.metrics import roc_auc_score\n",
    "\n",
    "# Full dataset for CV\n",
    "df_full_train = df.copy()\n",
    "y_full = df_full_train['converted']\n",
    "X_full = df_full_train.drop(columns=['converted'])\n",
    "\n",
    "# Initialize KFold\n",
    "kf = KFold(n_splits=5, shuffle=True, random_state=1)\n",
    "\n",
    "auc_scores = []\n",
    "\n",
    "# Iterate over folds\n",
    "for train_idx, val_idx in kf.split(X_full):\n",
    "    X_train_cv, X_val_cv = X_full.iloc[train_idx], X_full.iloc[val_idx]\n",
    "    y_train_cv, y_val_cv = y_full.iloc[train_idx], y_full.iloc[val_idx]\n",
    "    \n",
    "    # DictVectorizer\n",
    "    dv = DictVectorizer(sparse=False)\n",
    "    X_train_encoded = dv.fit_transform(X_train_cv.to_dict(orient='records'))\n",
    "    X_val_encoded = dv.transform(X_val_cv.to_dict(orient='records'))\n",
    "    \n",
    "    # Logistic Regression\n",
    "    model = LogisticRegression(solver='liblinear', C=1.0, max_iter=1000)\n",
    "    model.fit(X_train_encoded, y_train_cv)\n",
    "    \n",
    "    # Predict probabilities and compute AUC\n",
    "    y_val_pred = model.predict_proba(X_val_encoded)[:, 1]\n",
    "    auc = roc_auc_score(y_val_cv, y_val_pred)\n",
    "    auc_scores.append(auc)\n",
    "\n",
    "# Compute standard deviation of AUC scores across folds\n",
    "auc_std = np.std(auc_scores)\n",
    "print(\"AUC scores for each fold:\", [round(s, 3) for s in auc_scores])\n",
    "print(f\"Standard deviation of AUC across folds: {auc_std:.3f}\")\n"
   ]
  },
  {
   "cell_type": "code",
   "execution_count": 56,
   "id": "454926a7-50d6-4f30-a946-6537236480f9",
   "metadata": {},
   "outputs": [
    {
     "name": "stdout",
     "output_type": "stream",
     "text": [
      "C\tMean AUC\tStd AUC\n",
      "1e-06\t0.549\t\t0.03\n",
      "0.001\t0.862\t\t0.024\n",
      "1\t0.821\t\t0.029\n",
      "\n",
      "Best C: 0.001\n"
     ]
    }
   ],
   "source": [
    "import numpy as np\n",
    "from sklearn.model_selection import KFold\n",
    "from sklearn.feature_extraction import DictVectorizer\n",
    "from sklearn.linear_model import LogisticRegression\n",
    "from sklearn.metrics import roc_auc_score\n",
    "\n",
    "# C values to test\n",
    "C_values = [0.000001, 0.001, 1]\n",
    "\n",
    "# Initialize KFold\n",
    "kf = KFold(n_splits=5, shuffle=True, random_state=1)\n",
    "\n",
    "# Store results\n",
    "results = []\n",
    "\n",
    "for C in C_values:\n",
    "    auc_scores = []\n",
    "    \n",
    "    for train_idx, val_idx in kf.split(X_full):\n",
    "        X_train_cv, X_val_cv = X_full.iloc[train_idx], X_full.iloc[val_idx]\n",
    "        y_train_cv, y_val_cv = y_full.iloc[train_idx], y_full.iloc[val_idx]\n",
    "        \n",
    "        # DictVectorizer\n",
    "        dv = DictVectorizer(sparse=False)\n",
    "        X_train_encoded = dv.fit_transform(X_train_cv.to_dict(orient='records'))\n",
    "        X_val_encoded = dv.transform(X_val_cv.to_dict(orient='records'))\n",
    "        \n",
    "        # Train logistic regression\n",
    "        model = LogisticRegression(solver='liblinear', C=C, max_iter=1000)\n",
    "        model.fit(X_train_encoded, y_train_cv)\n",
    "        \n",
    "        # Predict and compute AUC\n",
    "        y_val_pred = model.predict_proba(X_val_encoded)[:, 1]\n",
    "        auc = roc_auc_score(y_val_cv, y_val_pred)\n",
    "        auc_scores.append(auc)\n",
    "    \n",
    "    mean_auc = np.mean(auc_scores)\n",
    "    std_auc = np.std(auc_scores)\n",
    "    results.append((C, round(mean_auc, 3), round(std_auc, 3)))\n",
    "\n",
    "# Print results\n",
    "print(\"C\\tMean AUC\\tStd AUC\")\n",
    "for r in results:\n",
    "    print(f\"{r[0]}\\t{r[1]}\\t\\t{r[2]}\")\n",
    "\n",
    "# Determine best C\n",
    "# Best mean -> lowest std if tie -> smallest C if tie\n",
    "results_sorted = sorted(results, key=lambda x: (-x[1], x[2], x[0]))\n",
    "best_C = results_sorted[0][0]\n",
    "print(f\"\\nBest C: {best_C}\")\n"
   ]
  },
  {
   "cell_type": "code",
   "execution_count": null,
   "id": "bdbb5cc4-8971-49ed-9f56-2adc7f81bc99",
   "metadata": {},
   "outputs": [],
   "source": []
  }
 ],
 "metadata": {
  "kernelspec": {
   "display_name": "Python 3 (ipykernel)",
   "language": "python",
   "name": "python3"
  },
  "language_info": {
   "codemirror_mode": {
    "name": "ipython",
    "version": 3
   },
   "file_extension": ".py",
   "mimetype": "text/x-python",
   "name": "python",
   "nbconvert_exporter": "python",
   "pygments_lexer": "ipython3",
   "version": "3.12.1"
  }
 },
 "nbformat": 4,
 "nbformat_minor": 5
}
